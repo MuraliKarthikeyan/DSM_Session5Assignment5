{
 "cells": [
  {
   "cell_type": "markdown",
   "metadata": {},
   "source": [
    "# Data Science Masters :Assignment 5"
   ]
  },
  {
   "cell_type": "markdown",
   "metadata": {},
   "source": [
    "1. Write a function to compute 5/0 and use try/except to catch the exceptions."
   ]
  },
  {
   "cell_type": "code",
   "execution_count": 41,
   "metadata": {
    "scrolled": true
   },
   "outputs": [
    {
     "name": "stdout",
     "output_type": "stream",
     "text": [
      "Error - Numbers cannot be divided by Zero.\n"
     ]
    }
   ],
   "source": [
    "# Solution:\n",
    "\n",
    "def ComputeCalculation(a,b):\n",
    "    try:\n",
    "        div = a/b\n",
    "        return div\n",
    "    except ZeroDivisionError:\n",
    "        return \"Error - Numbers cannot be divided by Zero.\"\n",
    "\n",
    "print(ComputeCalculation(5,0))"
   ]
  },
  {
   "cell_type": "markdown",
   "metadata": {},
   "source": [
    "2. Implement a Python program to generate all sentences where subject is in [\"Americans\",\n",
    "    \"Indians\"] and verb is in [\"Play\", \"watch\"] and the object is in [\"Baseball\",\"cricket\"].\n",
    "\n",
    "    Hint: Subject,Verb and Object should be declared in the program as shown below.\n",
    "    subjects=[\"Americans \",\"Indians\"]\n",
    "    verbs=[\"play\",\"watch\"]\n",
    "    objects=[\"Baseball\",\"Cricket\"]\n",
    "\n",
    "    Output should come as below:\n",
    "       Americans play Baseball.\n",
    "       Americans play Cricket.\n",
    "       Americans watch Baseball.\n",
    "       Americans watch Cricket.\n",
    "       Indians play Baseball.\n",
    "       Indians play Cricket.\n",
    "       Indians watch Baseball.\n",
    "       Indians watch Cricket."
   ]
  },
  {
   "cell_type": "code",
   "execution_count": 36,
   "metadata": {},
   "outputs": [
    {
     "name": "stdout",
     "output_type": "stream",
     "text": [
      "Americans play Baseball.\n",
      "Americans play Cricket.\n",
      "Americans watch Baseball.\n",
      "Americans watch Cricket.\n",
      "Indians play Baseball.\n",
      "Indians play Cricket.\n",
      "Indians watch Baseball.\n",
      "Indians watch Cricket.\n"
     ]
    }
   ],
   "source": [
    "# Solution:\n",
    "\n",
    "def SentenceFormation(subjects,verbs,objects):\n",
    "    for sub in subjects:\n",
    "        for vb in verbs:\n",
    "            for obj in objects:\n",
    "                print(sub+\" \"+vb+\" \"+obj+\".\")\n",
    "\n",
    "subjects=[\"Americans\",\"Indians\"] \n",
    "verbs=[\"play\",\"watch\"] \n",
    "objects=[\"Baseball\",\"Cricket\"]\n",
    "SentenceFormation(subjects,verbs,objects);\n",
    "    "
   ]
  }
 ],
 "metadata": {
  "kernelspec": {
   "display_name": "Python 3",
   "language": "python",
   "name": "python3"
  },
  "language_info": {
   "codemirror_mode": {
    "name": "ipython",
    "version": 3
   },
   "file_extension": ".py",
   "mimetype": "text/x-python",
   "name": "python",
   "nbconvert_exporter": "python",
   "pygments_lexer": "ipython3",
   "version": "3.6.5"
  }
 },
 "nbformat": 4,
 "nbformat_minor": 2
}
